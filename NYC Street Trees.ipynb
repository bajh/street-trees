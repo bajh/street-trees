{
 "cells": [
  {
   "cell_type": "markdown",
   "metadata": {},
   "source": [
    "#NYC Street Trees"
   ]
  },
  {
   "cell_type": "markdown",
   "metadata": {},
   "source": [
    "I'll be analyzing New York City Department of Parks data from the last street tree census; this includes a record of all trees that were planted in Manhattan, Brooklyn, Queens and the Bronx as recorded in 2005. I'll look at the distribution of tree species, what neighborhoods have a larger percentage of older trees, and the relationship between tree and human population density."
   ]
  },
  {
   "cell_type": "code",
   "execution_count": 1,
   "metadata": {
    "collapsed": false
   },
   "outputs": [],
   "source": [
    "#Setup\n",
    "import pandas as pd\n",
    "import numpy as np\n",
    "import seaborn as sb\n",
    "import statsmodels.formula.api as sm\n",
    "%matplotlib inline"
   ]
  },
  {
   "cell_type": "code",
   "execution_count": 2,
   "metadata": {
    "collapsed": false
   },
   "outputs": [],
   "source": [
    "# Read in tree datasets for each borough as well as geographic and demographic\n",
    "# data detailing population density by zip and land use by census block\n",
    "# (which I'll use to answer question #3)\n",
    "geo_data = []\n",
    "tree_data = []\n",
    "boroughs = ['Manhattan', 'Brooklyn', 'Bronx', 'Queens']\n",
    "\n",
    "def filter_residential(x):\n",
    "    return x[x['LandUse'] < 5][['LandUse']].count()\n",
    "def filter_parks(x):\n",
    "    return x[x['LandUse'] == 9][['LandUse']].count()\n",
    "\n",
    "for b in boroughs:\n",
    "    data = pd.read_csv(b + 'LandUse.csv', sep=',',\n",
    "                      usecols=['Borough', 'Block', 'ZipCode', 'LandUse'])\n",
    "    by_zip = data.groupby('ZipCode')\n",
    "    land_use_entries = by_zip[['LandUse']].count()\n",
    "    residential = by_zip.apply(filter_residential) / land_use_entries\n",
    "    residential = residential.reset_index()\n",
    "    parks = by_zip.apply(filter_parks) / land_use_entries\n",
    "    parks = parks.reset_index()\n",
    "    merged_geo = residential.merge(parks, how='inner', on='ZipCode')\n",
    "    merged_geo.columns = ['ZIPCODE', 'RESIDENTIAL', 'PARKS']\n",
    "    geo_data.append(merged_geo)\n",
    "    tree_data.append(pd.read_csv(b + '.csv', sep=','))"
   ]
  },
  {
   "cell_type": "code",
   "execution_count": 3,
   "metadata": {
    "collapsed": false
   },
   "outputs": [],
   "source": [
    "# Concatenate data for all boroughs into two DataFrames\n",
    "# (one for the tree listings, one for the geographic data)\n",
    "trees = pd.concat(tree_data)\n",
    "geo = pd.concat(geo_data)\n",
    "# Add population density to the geographic data\n",
    "pop = pd.read_csv('Zips.csv', sep=',', usecols=['Zip/ZCTA', 'Land-Sq-Mi', 'Density Per Sq Mile'])\n",
    "pop.columns = ['ZIPCODE', 'AREA', 'DENSITY']\n",
    "geo = geo.merge(pop, how='left', on='ZIPCODE')\n",
    "\n",
    "species = pd.read_csv('TreeNames.csv', sep=',')\n",
    "species.columns = ['SPECIES', 'COMNAME']\n",
    "trees = trees.merge(species, how='left', on='SPECIES')"
   ]
  },
  {
   "cell_type": "code",
   "execution_count": 5,
   "metadata": {
    "collapsed": false
   },
   "outputs": [
    {
     "data": {
      "text/html": [
       "<div style=\"max-height:1000px;max-width:1500px;overflow:auto;\">\n",
       "<table border=\"1\" class=\"dataframe\">\n",
       "  <thead>\n",
       "    <tr style=\"text-align: right;\">\n",
       "      <th></th>\n",
       "      <th>BOROUGH</th>\n",
       "      <th>BUILDINGNU</th>\n",
       "      <th>BUILDINGST</th>\n",
       "      <th>COMMDIST</th>\n",
       "      <th>CROSSSTREE</th>\n",
       "      <th>CROSSSTR_1</th>\n",
       "      <th>DIAMETER</th>\n",
       "      <th>FID_1</th>\n",
       "      <th>OBJECTID</th>\n",
       "      <th>OBJECTID_1</th>\n",
       "      <th>ONSTREET</th>\n",
       "      <th>PARITY</th>\n",
       "      <th>SITE</th>\n",
       "      <th>SPECIES</th>\n",
       "      <th>TREECONDIT</th>\n",
       "      <th>TREEID</th>\n",
       "      <th>TREELOCATI</th>\n",
       "      <th>TREEPIT</th>\n",
       "      <th>ZIPCODE</th>\n",
       "      <th>COMNAME</th>\n",
       "    </tr>\n",
       "  </thead>\n",
       "  <tbody>\n",
       "    <tr>\n",
       "      <th>0</th>\n",
       "      <td>Manhattan</td>\n",
       "      <td>74A</td>\n",
       "      <td>TRINITY PLACE</td>\n",
       "      <td>101</td>\n",
       "      <td>THAMES STREET</td>\n",
       "      <td>RECTOR PLACE</td>\n",
       "      <td>6</td>\n",
       "      <td>0</td>\n",
       "      <td>NaN</td>\n",
       "      <td>16</td>\n",
       "      <td>TRINITY PLACE</td>\n",
       "      <td>odd</td>\n",
       "      <td>4</td>\n",
       "      <td>PYCA</td>\n",
       "      <td>1</td>\n",
       "      <td>186</td>\n",
       "      <td>1</td>\n",
       "      <td>1</td>\n",
       "      <td>10006</td>\n",
       "      <td>PEAR, CALLERY</td>\n",
       "    </tr>\n",
       "    <tr>\n",
       "      <th>1</th>\n",
       "      <td>Manhattan</td>\n",
       "      <td>74</td>\n",
       "      <td>TRINITY PLACE</td>\n",
       "      <td>101</td>\n",
       "      <td>THAMES STREET</td>\n",
       "      <td>RECTOR PLACE</td>\n",
       "      <td>5</td>\n",
       "      <td>0</td>\n",
       "      <td>NaN</td>\n",
       "      <td>17</td>\n",
       "      <td>TRINITY PLACE</td>\n",
       "      <td>odd</td>\n",
       "      <td>4</td>\n",
       "      <td>PYCA</td>\n",
       "      <td>1</td>\n",
       "      <td>188</td>\n",
       "      <td>1</td>\n",
       "      <td>1</td>\n",
       "      <td>10006</td>\n",
       "      <td>PEAR, CALLERY</td>\n",
       "    </tr>\n",
       "  </tbody>\n",
       "</table>\n",
       "</div>"
      ],
      "text/plain": [
       "     BOROUGH BUILDINGNU     BUILDINGST  COMMDIST     CROSSSTREE    CROSSSTR_1  \\\n",
       "0  Manhattan        74A  TRINITY PLACE       101  THAMES STREET  RECTOR PLACE   \n",
       "1  Manhattan         74  TRINITY PLACE       101  THAMES STREET  RECTOR PLACE   \n",
       "\n",
       "   DIAMETER  FID_1  OBJECTID  OBJECTID_1       ONSTREET PARITY  SITE SPECIES  \\\n",
       "0         6      0       NaN          16  TRINITY PLACE    odd     4    PYCA   \n",
       "1         5      0       NaN          17  TRINITY PLACE    odd     4    PYCA   \n",
       "\n",
       "   TREECONDIT  TREEID  TREELOCATI  TREEPIT  ZIPCODE        COMNAME  \n",
       "0           1     186           1        1    10006  PEAR, CALLERY  \n",
       "1           1     188           1        1    10006  PEAR, CALLERY  "
      ]
     },
     "execution_count": 5,
     "metadata": {},
     "output_type": "execute_result"
    }
   ],
   "source": [
    "trees.head(2)"
   ]
  },
  {
   "cell_type": "markdown",
   "metadata": {},
   "source": [
    "##How much of the total distribution of trees is accounted for by the most common species? Do the same species dominate in all/most neighborhoods?"
   ]
  },
  {
   "cell_type": "code",
   "execution_count": 6,
   "metadata": {
    "collapsed": false
   },
   "outputs": [],
   "source": [
    "#Get total species count for each zip code\n",
    "species_dist = trees.groupby(['BOROUGH', 'ZIPCODE', 'COMNAME'])[['COMNAME']].count()\n",
    "species_dist.columns = ['NUMBER']\n",
    "species_dist = species_dist.reset_index()"
   ]
  },
  {
   "cell_type": "code",
   "execution_count": 7,
   "metadata": {
    "collapsed": false
   },
   "outputs": [
    {
     "name": "stdout",
     "output_type": "stream",
     "text": [
      "Manhattan\n",
      "      ZIPCODE        COMNAME\n",
      "3717    10001  PEAR, CALLERY\n",
      "3736    10002    HONEYLOCUST\n",
      "3779    10003    HONEYLOCUST\n",
      "3816    10004    HONEYLOCUST\n",
      "Brooklyn\n",
      "      ZIPCODE           COMNAME\n",
      "1406    11201  LONDON PLANETREE\n",
      "1473    11203  LONDON PLANETREE\n",
      "1543    11204  LONDON PLANETREE\n",
      "1603    11205  LONDON PLANETREE\n",
      "Bronx\n",
      "     ZIPCODE      COMNAME\n",
      "11     10451  HONEYLOCUST\n",
      "51     10452  HONEYLOCUST\n",
      "97     10453  HONEYLOCUST\n",
      "140    10454  HONEYLOCUST\n",
      "Queens\n",
      "      ZIPCODE        COMNAME\n",
      "5122    11001  MAPLE, NORWAY\n",
      "5180    11004  MAPLE, NORWAY\n",
      "5215    11005     ASH, GREEN\n",
      "5237    11040  MAPLE, NORWAY\n"
     ]
    }
   ],
   "source": [
    "#Looking at the most common common species in each neighborhood,\n",
    "# it's clear that a few species tend to dominate.\n",
    "most_common_by_zip = species_dist.ix[species_dist.groupby(['BOROUGH', 'ZIPCODE'])['NUMBER'].idxmax()]\n",
    "for b in boroughs:\n",
    "    print(b)\n",
    "    print(most_common_by_zip[most_common_by_zip['BOROUGH'] == b].head(4)[['ZIPCODE', 'COMNAME']])"
   ]
  },
  {
   "cell_type": "code",
   "execution_count": 8,
   "metadata": {
    "collapsed": false
   },
   "outputs": [
    {
     "data": {
      "image/png": "[encoded data removed]",
      "text/plain": [
       "<matplotlib.figure.Figure at 0x1174262d0>"
      ]
     },
     "metadata": {},
     "output_type": "display_data"
    }
   ],
   "source": [
    "# This histogram plots species that are the most commonly found trees in at least one neighborhood, as well as the\n",
    "# number of zip codes in which they predominate. Three species vastly outpace the rest.\n",
    "dist_top_species = most_common_by_zip.groupby('COMNAME')[['NUMBER']].count().reset_index()\n",
    "distplot = sb.barplot(x='COMNAME',y='NUMBER', data=dist_top_species, color='#82D489')\n",
    "distplot.set_title('Most common trees in one or more neighborhoods')\n",
    "distplot.set_xlabel('Name')\n",
    "distplot.set_ylabel('# of Neighborhoods')\n",
    "_ = distplot.set_xticklabels(dist_top_species['COMNAME'], rotation=-90)"
   ]
  },
  {
   "cell_type": "code",
   "execution_count": 9,
   "metadata": {
    "collapsed": false
   },
   "outputs": [
    {
     "name": "stdout",
     "output_type": "stream",
     "text": [
      "     BOROUGH  ZIPCODE         COMNAME  NUMBER\n",
      "8881  Queens    11697  TREE OF HEAVEN       7\n",
      "     BOROUGH  ZIPCODE           COMNAME  NUMBER\n",
      "1356   Bronx    10803  HEMLOCK, EASTERN      15\n"
     ]
    }
   ],
   "source": [
    "# A few of the neighborhoods with an unusual #1 tree are outliers of sorts in that they have very small tree\n",
    "# populations to begin with.\n",
    "print(most_common_by_zip[most_common_by_zip['COMNAME'] == 'TREE OF HEAVEN'])\n",
    "print(most_common_by_zip[most_common_by_zip['COMNAME'] == 'HEMLOCK, EASTERN'])"
   ]
  },
  {
   "cell_type": "markdown",
   "metadata": {},
   "source": [
    "However, 11239, for example, is somewhat unusual in that Little Leaf Lindens far outpace Honeylocusts."
   ]
  },
  {
   "cell_type": "code",
   "execution_count": 10,
   "metadata": {
    "collapsed": false
   },
   "outputs": [
    {
     "data": {
      "text/html": [
       "<div style=\"max-height:1000px;max-width:1500px;overflow:auto;\">\n",
       "<table border=\"1\" class=\"dataframe\">\n",
       "  <thead>\n",
       "    <tr style=\"text-align: right;\">\n",
       "      <th></th>\n",
       "      <th>BOROUGH</th>\n",
       "      <th>ZIPCODE</th>\n",
       "      <th>COMNAME</th>\n",
       "      <th>NUMBER</th>\n",
       "    </tr>\n",
       "  </thead>\n",
       "  <tbody>\n",
       "    <tr>\n",
       "      <th>3686</th>\n",
       "      <td>Brooklyn</td>\n",
       "      <td>11239</td>\n",
       "      <td>LINDEN, LITTLE LEAF</td>\n",
       "      <td>70</td>\n",
       "    </tr>\n",
       "    <tr>\n",
       "      <th>3693</th>\n",
       "      <td>Brooklyn</td>\n",
       "      <td>11239</td>\n",
       "      <td>UNKOWN</td>\n",
       "      <td>32</td>\n",
       "    </tr>\n",
       "    <tr>\n",
       "      <th>3685</th>\n",
       "      <td>Brooklyn</td>\n",
       "      <td>11239</td>\n",
       "      <td>HONEYLOCUST</td>\n",
       "      <td>20</td>\n",
       "    </tr>\n",
       "    <tr>\n",
       "      <th>3692</th>\n",
       "      <td>Brooklyn</td>\n",
       "      <td>11239</td>\n",
       "      <td>PEAR, CALLERY</td>\n",
       "      <td>17</td>\n",
       "    </tr>\n",
       "    <tr>\n",
       "      <th>3690</th>\n",
       "      <td>Brooklyn</td>\n",
       "      <td>11239</td>\n",
       "      <td>OAK, NORTHERN RED</td>\n",
       "      <td>9</td>\n",
       "    </tr>\n",
       "  </tbody>\n",
       "</table>\n",
       "</div>"
      ],
      "text/plain": [
       "       BOROUGH  ZIPCODE              COMNAME  NUMBER\n",
       "3686  Brooklyn    11239  LINDEN, LITTLE LEAF      70\n",
       "3693  Brooklyn    11239               UNKOWN      32\n",
       "3685  Brooklyn    11239          HONEYLOCUST      20\n",
       "3692  Brooklyn    11239        PEAR, CALLERY      17\n",
       "3690  Brooklyn    11239    OAK, NORTHERN RED       9"
      ]
     },
     "execution_count": 10,
     "metadata": {},
     "output_type": "execute_result"
    }
   ],
   "source": [
    "zip_w_lindens = int(most_common_by_zip[most_common_by_zip['COMNAME'] == 'LINDEN, LITTLE LEAF']['ZIPCODE'])\n",
    "species_dist[species_dist['ZIPCODE'] == zip_w_lindens].sort('NUMBER', ascending=False)[:5]"
   ]
  },
  {
   "cell_type": "markdown",
   "metadata": {},
   "source": [
    "By looking at the cumulative sum of the species totals, we can see that the five most common (London Planetree, Norway Maple, Honeylocust, Callery Pear, and Pin Oak) make up more than 50% of the data, and the first 12 make up approximately 80% - there are a total of 118 distinct species recorded in the dataset."
   ]
  },
  {
   "cell_type": "code",
   "execution_count": 11,
   "metadata": {
    "collapsed": false
   },
   "outputs": [],
   "source": [
    "species_count = trees.groupby(['COMNAME'])[['COMNAME']].count()\n",
    "species_count.columns = ['NUMBER']\n",
    "species_count = species_count.reset_index()"
   ]
  },
  {
   "cell_type": "code",
   "execution_count": 12,
   "metadata": {
    "collapsed": true
   },
   "outputs": [],
   "source": [
    "species_count = species_count[species_count['COMNAME'] != 'UNKOWN'].sort(['NUMBER'], ascending=False)"
   ]
  },
  {
   "cell_type": "code",
   "execution_count": 13,
   "metadata": {
    "collapsed": true
   },
   "outputs": [],
   "source": [
    "species_cum = species_count[['NUMBER']].cumsum() / species_count[['NUMBER']].sum()"
   ]
  },
  {
   "cell_type": "code",
   "execution_count": 14,
   "metadata": {
    "collapsed": false
   },
   "outputs": [
    {
     "data": {
      "text/html": [
       "<div style=\"max-height:1000px;max-width:1500px;overflow:auto;\">\n",
       "<table border=\"1\" class=\"dataframe\">\n",
       "  <thead>\n",
       "    <tr style=\"text-align: right;\">\n",
       "      <th></th>\n",
       "      <th>COMNAME</th>\n",
       "      <th>NUMBER</th>\n",
       "      <th>CUMULATIVE PERCENTAGE</th>\n",
       "    </tr>\n",
       "  </thead>\n",
       "  <tbody>\n",
       "    <tr>\n",
       "      <th>57</th>\n",
       "      <td>LONDON PLANETREE</td>\n",
       "      <td>80140</td>\n",
       "      <td>0.169150</td>\n",
       "    </tr>\n",
       "    <tr>\n",
       "      <th>64</th>\n",
       "      <td>MAPLE, NORWAY</td>\n",
       "      <td>67388</td>\n",
       "      <td>0.311384</td>\n",
       "    </tr>\n",
       "    <tr>\n",
       "      <th>43</th>\n",
       "      <td>HONEYLOCUST</td>\n",
       "      <td>48746</td>\n",
       "      <td>0.414272</td>\n",
       "    </tr>\n",
       "    <tr>\n",
       "      <th>87</th>\n",
       "      <td>PEAR, CALLERY</td>\n",
       "      <td>39158</td>\n",
       "      <td>0.496922</td>\n",
       "    </tr>\n",
       "    <tr>\n",
       "      <th>78</th>\n",
       "      <td>OAK, PIN</td>\n",
       "      <td>37098</td>\n",
       "      <td>0.575224</td>\n",
       "    </tr>\n",
       "    <tr>\n",
       "      <th>54</th>\n",
       "      <td>LINDEN, LITTLE LEAF</td>\n",
       "      <td>25988</td>\n",
       "      <td>0.630076</td>\n",
       "    </tr>\n",
       "    <tr>\n",
       "      <th>3</th>\n",
       "      <td>ASH, GREEN</td>\n",
       "      <td>17001</td>\n",
       "      <td>0.665960</td>\n",
       "    </tr>\n",
       "    <tr>\n",
       "      <th>34</th>\n",
       "      <td>GINKGO</td>\n",
       "      <td>15685</td>\n",
       "      <td>0.699066</td>\n",
       "    </tr>\n",
       "    <tr>\n",
       "      <th>118</th>\n",
       "      <td>ZELKOVA, JAPANESE</td>\n",
       "      <td>13226</td>\n",
       "      <td>0.726981</td>\n",
       "    </tr>\n",
       "    <tr>\n",
       "      <th>68</th>\n",
       "      <td>MAPLE, SILVER</td>\n",
       "      <td>13186</td>\n",
       "      <td>0.754813</td>\n",
       "    </tr>\n",
       "    <tr>\n",
       "      <th>67</th>\n",
       "      <td>MAPLE, RED</td>\n",
       "      <td>11518</td>\n",
       "      <td>0.779124</td>\n",
       "    </tr>\n",
       "    <tr>\n",
       "      <th>76</th>\n",
       "      <td>OAK, NORTHERN RED</td>\n",
       "      <td>10029</td>\n",
       "      <td>0.800292</td>\n",
       "    </tr>\n",
       "  </tbody>\n",
       "</table>\n",
       "</div>"
      ],
      "text/plain": [
       "                 COMNAME  NUMBER  CUMULATIVE PERCENTAGE\n",
       "57      LONDON PLANETREE   80140               0.169150\n",
       "64         MAPLE, NORWAY   67388               0.311384\n",
       "43           HONEYLOCUST   48746               0.414272\n",
       "87         PEAR, CALLERY   39158               0.496922\n",
       "78              OAK, PIN   37098               0.575224\n",
       "54   LINDEN, LITTLE LEAF   25988               0.630076\n",
       "3             ASH, GREEN   17001               0.665960\n",
       "34                GINKGO   15685               0.699066\n",
       "118    ZELKOVA, JAPANESE   13226               0.726981\n",
       "68         MAPLE, SILVER   13186               0.754813\n",
       "67            MAPLE, RED   11518               0.779124\n",
       "76     OAK, NORTHERN RED   10029               0.800292"
      ]
     },
     "execution_count": 14,
     "metadata": {},
     "output_type": "execute_result"
    }
   ],
   "source": [
    "species_count['CUMULATIVE PERCENTAGE'] = species_cum\n",
    "species_count[:12]"
   ]
  },
  {
   "cell_type": "markdown",
   "metadata": {},
   "source": [
    "## What neighborhoods have the highest percentage of older trees?"
   ]
  },
  {
   "cell_type": "markdown",
   "metadata": {},
   "source": [
    "I assume that tree diameter gives a reliable estimate of tree age and look at what percentage of the trees in each zip code are above the median diameter for that species"
   ]
  },
  {
   "cell_type": "code",
   "execution_count": 15,
   "metadata": {
    "collapsed": true
   },
   "outputs": [],
   "source": [
    "#Find the median diameter for each tree species\n",
    "median_diam = trees.groupby(['COMNAME'])[['DIAMETER']].median().reset_index()"
   ]
  },
  {
   "cell_type": "code",
   "execution_count": 16,
   "metadata": {
    "collapsed": false
   },
   "outputs": [],
   "source": [
    "median_diam.columns = ['COMNAME', 'MEDIANDIAM']"
   ]
  },
  {
   "cell_type": "code",
   "execution_count": 17,
   "metadata": {
    "collapsed": false
   },
   "outputs": [],
   "source": [
    "trees_with_mdiam = trees.merge(median_diam, how='left', on='COMNAME')"
   ]
  },
  {
   "cell_type": "code",
   "execution_count": 18,
   "metadata": {
    "collapsed": true
   },
   "outputs": [],
   "source": [
    "#Find the percentage of trees in each zip code that are larger than the median diameter for that species\n",
    "percent_large = pd.DataFrame(trees_with_mdiam.groupby(['BOROUGH', 'ZIPCODE'])\\\n",
    "[['DIAMETER', 'MEDIANDIAM']].apply(lambda x: x[x['DIAMETER'] > x['MEDIANDIAM']]\\\n",
    ".count())['DIAMETER'] / trees_with_mdiam.groupby(['BOROUGH', 'ZIPCODE'])['MEDIANDIAM'].count())"
   ]
  },
  {
   "cell_type": "code",
   "execution_count": 19,
   "metadata": {
    "collapsed": true
   },
   "outputs": [],
   "source": [
    "percent_large = percent_large.reset_index()\n",
    "percent_large.columns = ['BOROUGH', 'ZIPCODE', 'PERCENTLARGE']"
   ]
  },
  {
   "cell_type": "code",
   "execution_count": 20,
   "metadata": {
    "collapsed": false
   },
   "outputs": [
    {
     "data": {
      "text/html": [
       "<div style=\"max-height:1000px;max-width:1500px;overflow:auto;\">\n",
       "<table border=\"1\" class=\"dataframe\">\n",
       "  <thead>\n",
       "    <tr style=\"text-align: right;\">\n",
       "      <th></th>\n",
       "      <th>BOROUGH</th>\n",
       "      <th>ZIPCODE</th>\n",
       "      <th>PERCENTLARGE</th>\n",
       "    </tr>\n",
       "  </thead>\n",
       "  <tbody>\n",
       "    <tr>\n",
       "      <th>104</th>\n",
       "      <td>Manhattan</td>\n",
       "      <td>10162</td>\n",
       "      <td>0.866667</td>\n",
       "    </tr>\n",
       "    <tr>\n",
       "      <th>144</th>\n",
       "      <td>Queens</td>\n",
       "      <td>11412</td>\n",
       "      <td>0.728170</td>\n",
       "    </tr>\n",
       "    <tr>\n",
       "      <th>147</th>\n",
       "      <td>Queens</td>\n",
       "      <td>11415</td>\n",
       "      <td>0.675900</td>\n",
       "    </tr>\n",
       "    <tr>\n",
       "      <th>159</th>\n",
       "      <td>Queens</td>\n",
       "      <td>11429</td>\n",
       "      <td>0.660277</td>\n",
       "    </tr>\n",
       "    <tr>\n",
       "      <th>155</th>\n",
       "      <td>Queens</td>\n",
       "      <td>11423</td>\n",
       "      <td>0.629202</td>\n",
       "    </tr>\n",
       "  </tbody>\n",
       "</table>\n",
       "</div>"
      ],
      "text/plain": [
       "       BOROUGH  ZIPCODE  PERCENTLARGE\n",
       "104  Manhattan    10162      0.866667\n",
       "144     Queens    11412      0.728170\n",
       "147     Queens    11415      0.675900\n",
       "159     Queens    11429      0.660277\n",
       "155     Queens    11423      0.629202"
      ]
     },
     "execution_count": 20,
     "metadata": {},
     "output_type": "execute_result"
    }
   ],
   "source": [
    "percent_large.sort(['PERCENTLARGE'], ascending=False).head(5)"
   ]
  },
  {
   "cell_type": "markdown",
   "metadata": {},
   "source": [
    "Most of these are residential neighborhoods in Outer Queens"
   ]
  },
  {
   "cell_type": "markdown",
   "metadata": {},
   "source": [
    "##How strongly is the density of trees in a neighborhood correlated with the population density in that area?"
   ]
  },
  {
   "cell_type": "code",
   "execution_count": 21,
   "metadata": {
    "collapsed": true
   },
   "outputs": [],
   "source": [
    "count_by_zip = trees.groupby(['BOROUGH', 'ZIPCODE'])[['COMNAME']].count().reset_index()"
   ]
  },
  {
   "cell_type": "code",
   "execution_count": 22,
   "metadata": {
    "collapsed": false
   },
   "outputs": [],
   "source": [
    "#Merge in geographic data\n",
    "trees_and_geo = count_by_zip.merge(geo, how='left', on='ZIPCODE')"
   ]
  },
  {
   "cell_type": "code",
   "execution_count": 23,
   "metadata": {
    "collapsed": false
   },
   "outputs": [],
   "source": [
    "#Calculate the number of trees per square mile in each zip code\n",
    "trees_and_geo['TDENSITY'] = trees_and_geo['COMNAME'] / trees_and_geo['AREA']"
   ]
  },
  {
   "cell_type": "code",
   "execution_count": 24,
   "metadata": {
    "collapsed": false
   },
   "outputs": [
    {
     "data": {
      "image/png": "[encoded data removed]",
      "text/plain": [
       "<matplotlib.figure.Figure at 0x10bb84f50>"
      ]
     },
     "metadata": {},
     "output_type": "display_data"
    }
   ],
   "source": [
    "# Plot population density against tree density\n",
    "density = sb.lmplot(x='DENSITY', y='TDENSITY', col='BOROUGH', data=trees_and_geo, color='#57B660')\n",
    "density.set_xlabels('Population Density (pop/sq area)').set_ylabels('Street Tree Density (trees/sq area)')\n",
    "_ = density.set_xticklabels(rotation=-45)"
   ]
  },
  {
   "cell_type": "markdown",
   "metadata": {},
   "source": [
    "Population density isn't very strongly correlated with tree density - the R-squared for these is 0.27, 0.18, 0.28 and 0.13.\n",
    "\n",
    "I also tried including the percentage of blocks in the neighborhood that were classified as residential (or mixed-residential/commercial) during the last census, and included an interaction effect with population density. I also suspected that areas with a higher percentage of blocks that were classified as Parks Department property might have an effect. Building these factors into the model did result in a higher R-squared for each neighborhood."
   ]
  },
  {
   "cell_type": "code",
   "execution_count": 26,
   "metadata": {
    "collapsed": false
   },
   "outputs": [
    {
     "name": "stdout",
     "output_type": "stream",
     "text": [
      "Manhattan R-squared: 0.480571894925\n",
      "Brooklyn R-squared: 0.386785959468\n",
      "Bronx R-squared: 0.633852540289\n",
      "Queens R-squared: 0.273495466168\n"
     ]
    }
   ],
   "source": [
    "for b in ['Manhattan', 'Brooklyn', 'Bronx', 'Queens']:\n",
    "    d = trees_and_geo[trees_and_geo['BOROUGH'] == b]\n",
    "    stats = sm.ols('TDENSITY ~ DENSITY*RESIDENTIAL + PARKS', data=d).fit()\n",
    "    residuals = stats.resid\n",
    "    \n",
    "    print(b, \"R-squared: %s\" % stats.rsquared)\n"
   ]
  },
  {
   "cell_type": "code",
   "execution_count": null,
   "metadata": {
    "collapsed": true
   },
   "outputs": [],
   "source": []
  }
 ],
 "metadata": {
  "kernelspec": {
   "display_name": "Python 3",
   "language": "python",
   "name": "python3"
  },
  "language_info": {
   "codemirror_mode": {
    "name": "ipython",
    "version": 3
   },
   "file_extension": ".py",
   "mimetype": "text/x-python",
   "name": "python",
   "nbconvert_exporter": "python",
   "pygments_lexer": "ipython3",
   "version": "3.3.5"
  }
 },
 "nbformat": 4,
 "nbformat_minor": 0
}
